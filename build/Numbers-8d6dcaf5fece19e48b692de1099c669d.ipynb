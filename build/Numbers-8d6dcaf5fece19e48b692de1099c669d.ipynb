{
 "cells": [
  {
   "cell_type": "markdown",
   "id": "4a51b6a2-a4bf-47ce-89f1-fcaad5eb8854",
   "metadata": {},
   "source": [
    "# Numbers #"
   ]
  },
  {
   "cell_type": "code",
   "execution_count": 1,
   "id": "c59dd168-1f09-4fbe-82d6-6f85f02bd37c",
   "metadata": {},
   "outputs": [],
   "source": [
    "val one = 1 // Int\n",
    "val threeBillion = 3000000000 // Long\n",
    "val oneLong = 1L // Long\n",
    "val oneByte: Byte = 1"
   ]
  },
  {
   "cell_type": "code",
   "execution_count": 9,
   "id": "fa65e332-d900-420a-9f42-d14cc34ec95d",
   "metadata": {},
   "outputs": [
    {
     "name": "stdout",
     "output_type": "stream",
     "text": [
      "1 is of type Int\n"
     ]
    }
   ],
   "source": [
    "println(\"${one} is of type ${one::class.simpleName}\")"
   ]
  },
  {
   "cell_type": "code",
   "execution_count": 10,
   "id": "736c179c-322f-4250-830a-c65c2b3db6e0",
   "metadata": {},
   "outputs": [
    {
     "name": "stdout",
     "output_type": "stream",
     "text": [
      "3000000000 is of type Long\n"
     ]
    }
   ],
   "source": [
    "println(\"${threeBillion} is of type ${threeBillion::class.simpleName}\")"
   ]
  },
  {
   "cell_type": "code",
   "execution_count": 11,
   "id": "a50ef5ae-b90b-4ec3-8b65-945d0dd62112",
   "metadata": {},
   "outputs": [
    {
     "name": "stdout",
     "output_type": "stream",
     "text": [
      "1 is of type Long\n"
     ]
    }
   ],
   "source": [
    "println(\"${oneLong} is of type ${oneLong::class.simpleName}\")"
   ]
  },
  {
   "cell_type": "code",
   "execution_count": 12,
   "id": "93f1ca8d-555c-4cb5-8f02-70369e810206",
   "metadata": {},
   "outputs": [
    {
     "name": "stdout",
     "output_type": "stream",
     "text": [
      "1 is of type Byte\n"
     ]
    }
   ],
   "source": [
    "println(\"${oneByte} is of type ${oneByte::class.simpleName}\")"
   ]
  },
  {
   "cell_type": "markdown",
   "id": "b473836c-0a90-49cc-a5dc-ce8a4bad5b77",
   "metadata": {},
   "source": [
    "## Number collections ##\n",
    "\n",
    "The major difference between Array and List is that Arrays have a fixed size while (Mutable)List can adjust their size dynamically. Moreover Array is mutable whereas List is not.\n"
   ]
  },
  {
   "cell_type": "markdown",
   "id": "a60d0aa2-f484-480b-b09c-d5e15d164c01",
   "metadata": {},
   "source": [
    "### Array ###"
   ]
  },
  {
   "cell_type": "code",
   "execution_count": 43,
   "id": "9c1f923b-8944-4c07-8e90-f89bc008c2b2",
   "metadata": {},
   "outputs": [
    {
     "data": {
      "text/plain": [
       "[1, 2, 3]"
      ]
     },
     "execution_count": 43,
     "metadata": {},
     "output_type": "execute_result"
    }
   ],
   "source": [
    "val a1 = arrayOf(1, 2, 3)\n",
    "a1"
   ]
  },
  {
   "cell_type": "code",
   "execution_count": 46,
   "id": "f2fdac5b-0216-4823-9028-21ec658f66a1",
   "metadata": {},
   "outputs": [
    {
     "data": {
      "text/plain": [
       "[0, 2, -3]"
      ]
     },
     "execution_count": 46,
     "metadata": {},
     "output_type": "execute_result"
    }
   ],
   "source": [
    "a1[0] = 0\n",
    "a1[a1.size-1] = -3\n",
    "a1"
   ]
  },
  {
   "cell_type": "code",
   "execution_count": 49,
   "id": "db72beb2-e087-4c41-aca8-1322f070d3b1",
   "metadata": {},
   "outputs": [
    {
     "data": {
      "text/plain": [
       "[1, 2, 3, 4, 5]"
      ]
     },
     "execution_count": 49,
     "metadata": {},
     "output_type": "execute_result"
    }
   ],
   "source": [
    "val ints = arrayOf<Int>(1, 2, 3, 4, 5) // type explicit\n",
    "ints"
   ]
  },
  {
   "cell_type": "code",
   "execution_count": 58,
   "id": "ed581905-a0ba-43d2-8880-7f63059fd21b",
   "metadata": {},
   "outputs": [
    {
     "data": {
      "text/plain": [
       "[4, 3, 2, 1]"
      ]
     },
     "execution_count": 58,
     "metadata": {},
     "output_type": "execute_result"
    }
   ],
   "source": [
    "val ns = arrayOf<Long>(4, 3, 2, 1)\n",
    "ns"
   ]
  },
  {
   "cell_type": "code",
   "execution_count": 59,
   "id": "0eb2fb57-fcd3-4d58-92b6-9f0e6942790d",
   "metadata": {},
   "outputs": [
    {
     "data": {
      "text/plain": [
       "4"
      ]
     },
     "execution_count": 59,
     "metadata": {},
     "output_type": "execute_result"
    }
   ],
   "source": [
    "ns.size"
   ]
  },
  {
   "cell_type": "code",
   "execution_count": 60,
   "id": "9c9e756d-484b-4454-a619-d88dd8abefb2",
   "metadata": {},
   "outputs": [
    {
     "data": {
      "text/plain": [
       "10"
      ]
     },
     "execution_count": 60,
     "metadata": {},
     "output_type": "execute_result"
    }
   ],
   "source": [
    "ns.sum()"
   ]
  },
  {
   "cell_type": "code",
   "execution_count": 61,
   "id": "b6ba5c5d-0c3c-48d8-a5f8-f00b3fa19847",
   "metadata": {},
   "outputs": [
    {
     "data": {
      "text/plain": [
       "[1, 2, 3, 4]"
      ]
     },
     "execution_count": 61,
     "metadata": {},
     "output_type": "execute_result"
    }
   ],
   "source": [
    "ns.sort()\n",
    "ns"
   ]
  },
  {
   "cell_type": "markdown",
   "id": "e7d0e0f8-2e4a-46c6-8dfd-07a9d5dbedbe",
   "metadata": {},
   "source": [
    "### List ###"
   ]
  },
  {
   "cell_type": "code",
   "execution_count": 14,
   "id": "67302b61-726d-496c-96a4-4cf2a4a0fb35",
   "metadata": {},
   "outputs": [
    {
     "data": {
      "text/plain": [
       "[1, 2, 3]"
      ]
     },
     "execution_count": 14,
     "metadata": {},
     "output_type": "execute_result"
    }
   ],
   "source": [
    "val l1 = listOf(1, 2, 3)\n",
    "l1"
   ]
  },
  {
   "cell_type": "code",
   "execution_count": 21,
   "id": "0ece7fd4-bef1-4862-92e4-de9e27e3b82e",
   "metadata": {},
   "outputs": [
    {
     "data": {
      "text/plain": [
       "class java.util.Arrays$ArrayList"
      ]
     },
     "execution_count": 21,
     "metadata": {},
     "output_type": "execute_result"
    }
   ],
   "source": [
    "l1::class"
   ]
  },
  {
   "cell_type": "code",
   "execution_count": 16,
   "id": "b7dcd45e-d326-412a-944d-6f98a44c2f22",
   "metadata": {},
   "outputs": [
    {
     "data": {
      "text/plain": [
       "[1, 2, 3]"
      ]
     },
     "execution_count": 16,
     "metadata": {},
     "output_type": "execute_result"
    }
   ],
   "source": [
    "val l2 = mutableListOf(1, 2, 3)\n",
    "l2"
   ]
  },
  {
   "cell_type": "code",
   "execution_count": 22,
   "id": "ab6ef40b-fa5e-4e83-bebd-e4dc497ca428",
   "metadata": {},
   "outputs": [
    {
     "data": {
      "text/plain": [
       "class java.util.ArrayList"
      ]
     },
     "execution_count": 22,
     "metadata": {},
     "output_type": "execute_result"
    }
   ],
   "source": [
    "l2::class"
   ]
  },
  {
   "cell_type": "code",
   "execution_count": 29,
   "id": "934e157d-3ec3-4b85-8370-b2fc0f859bd1",
   "metadata": {},
   "outputs": [
    {
     "data": {
      "text/plain": [
       "1"
      ]
     },
     "execution_count": 29,
     "metadata": {},
     "output_type": "execute_result"
    }
   ],
   "source": [
    "l2[0]"
   ]
  },
  {
   "cell_type": "code",
   "execution_count": 31,
   "id": "46a65ba2-98b0-4d7b-8858-ab558e2ee436",
   "metadata": {},
   "outputs": [
    {
     "data": {
      "text/plain": [
       "3"
      ]
     },
     "execution_count": 31,
     "metadata": {},
     "output_type": "execute_result"
    }
   ],
   "source": [
    "l2[l1.size-1]"
   ]
  },
  {
   "cell_type": "code",
   "execution_count": 33,
   "id": "8ed76223-f0d1-4756-83a4-839120c4bce2",
   "metadata": {},
   "outputs": [
    {
     "data": {
      "text/plain": [
       "[7, 2, 3]"
      ]
     },
     "execution_count": 33,
     "metadata": {},
     "output_type": "execute_result"
    }
   ],
   "source": [
    "l2[0] = 7 // this is mutable\n",
    "l2"
   ]
  },
  {
   "cell_type": "code",
   "execution_count": 47,
   "id": "bd442546-8caa-45fb-b49c-7aa3ff3aa690",
   "metadata": {},
   "outputs": [
    {
     "data": {
      "text/plain": [
       "true"
      ]
     },
     "execution_count": 47,
     "metadata": {},
     "output_type": "execute_result"
    }
   ],
   "source": [
    "l2.add(9)"
   ]
  },
  {
   "cell_type": "code",
   "execution_count": 48,
   "id": "f92ee314-1d54-44dc-adf7-842a154a517d",
   "metadata": {},
   "outputs": [
    {
     "data": {
      "text/plain": [
       "[7, 2, 3, 9]"
      ]
     },
     "execution_count": 48,
     "metadata": {},
     "output_type": "execute_result"
    }
   ],
   "source": [
    "l2"
   ]
  },
  {
   "cell_type": "code",
   "execution_count": 41,
   "id": "7e669c15-2f94-460d-9bef-a8a05494818f",
   "metadata": {},
   "outputs": [],
   "source": [
    "// l1[0] = 7 // can't do this..."
   ]
  },
  {
   "cell_type": "markdown",
   "id": "d826e0bd-3bfd-435d-a0bf-80f1b6056bbc",
   "metadata": {},
   "source": [
    "### map ###"
   ]
  },
  {
   "cell_type": "code",
   "execution_count": 25,
   "id": "c36446b1-6226-4404-b42f-256287eedbc6",
   "metadata": {},
   "outputs": [
    {
     "data": {
      "text/plain": [
       "{a=1, b=2, c=3}"
      ]
     },
     "execution_count": 25,
     "metadata": {},
     "output_type": "execute_result"
    }
   ],
   "source": [
    "val d1 = mapOf(\"a\" to 1, \"b\" to 2, \"c\" to 3)\n",
    "d1"
   ]
  },
  {
   "cell_type": "code",
   "execution_count": 27,
   "id": "45bada97-db36-44bf-8624-54d31fc98dc5",
   "metadata": {},
   "outputs": [
    {
     "data": {
      "text/plain": [
       "class java.util.LinkedHashMap"
      ]
     },
     "execution_count": 27,
     "metadata": {},
     "output_type": "execute_result"
    }
   ],
   "source": [
    "d1::class"
   ]
  },
  {
   "cell_type": "code",
   "execution_count": 26,
   "id": "913aafee-cf15-4137-9974-113c748cb102",
   "metadata": {},
   "outputs": [
    {
     "data": {
      "text/plain": [
       "{d=4, e=5, f=6}"
      ]
     },
     "execution_count": 26,
     "metadata": {},
     "output_type": "execute_result"
    }
   ],
   "source": [
    "val d2 = mutableMapOf(\"d\" to 4, \"e\" to 5, \"f\" to 6)\n",
    "d2"
   ]
  },
  {
   "cell_type": "code",
   "execution_count": 28,
   "id": "825c348b-ade2-4085-a8ee-d7f1fff0bd19",
   "metadata": {},
   "outputs": [
    {
     "data": {
      "text/plain": [
       "class java.util.LinkedHashMap"
      ]
     },
     "execution_count": 28,
     "metadata": {},
     "output_type": "execute_result"
    }
   ],
   "source": [
    "d1::class"
   ]
  },
  {
   "cell_type": "markdown",
   "id": "ce1fc107-a52e-4539-87b6-34a63c466ce0",
   "metadata": {},
   "source": [
    "## Number functions ##"
   ]
  },
  {
   "cell_type": "code",
   "execution_count": 62,
   "id": "25654e33-63b8-4f7b-9116-bdd809d229b9",
   "metadata": {},
   "outputs": [
    {
     "data": {
      "text/plain": [
       "3"
      ]
     },
     "execution_count": 62,
     "metadata": {},
     "output_type": "execute_result"
    }
   ],
   "source": [
    "fun add(a: Int, b: Int): Int {\n",
    "    return a + b\n",
    "}\n",
    "\n",
    "add(1, 2)"
   ]
  },
  {
   "cell_type": "code",
   "execution_count": 63,
   "id": "a0ed0c66-609e-4de1-a09b-d48a3a9df353",
   "metadata": {},
   "outputs": [
    {
     "data": {
      "text/plain": [
       "10"
      ]
     },
     "execution_count": 63,
     "metadata": {},
     "output_type": "execute_result"
    }
   ],
   "source": [
    "fun add(vararg ns: Int): Int {\n",
    "    var total: Int = 0\n",
    "    for (n in ns) {\n",
    "        total += n\n",
    "    }\n",
    "    return total\n",
    "}\n",
    "\n",
    "add(1, 2, 3, 4)"
   ]
  },
  {
   "cell_type": "code",
   "execution_count": 64,
   "id": "33c2ab59-dc0c-49c8-9cd9-c23a6e1a171d",
   "metadata": {},
   "outputs": [],
   "source": [
    "val sum = {x: Int, y: Int -> x + y }"
   ]
  },
  {
   "cell_type": "code",
   "execution_count": 65,
   "id": "9fbc9fbe-2abe-41f6-9b68-ff07b307cf24",
   "metadata": {},
   "outputs": [
    {
     "data": {
      "text/plain": [
       "3"
      ]
     },
     "execution_count": 65,
     "metadata": {},
     "output_type": "execute_result"
    }
   ],
   "source": [
    "sum(1, 2)"
   ]
  },
  {
   "cell_type": "markdown",
   "id": "05f168cc-3ba5-4814-8bcd-7827f4d7741d",
   "metadata": {},
   "source": [
    "## bigint ##"
   ]
  },
  {
   "cell_type": "code",
   "execution_count": 66,
   "id": "d120039b-2bb2-4de5-ae71-b047afcecad9",
   "metadata": {},
   "outputs": [],
   "source": [
    "import java.math.BigInteger\n",
    "\n",
    "val bigIntOne = BigInteger(\"123456789012345678901234567890\") // from String\n",
    "val bigIntTwo = BigInteger.valueOf(100L) // from Long\n",
    "val bigIntZero = BigInteger.ZERO // Predefined constant for zero"
   ]
  },
  {
   "cell_type": "code",
   "execution_count": 68,
   "id": "8e3ff67e-ea12-4465-877c-d48cba15148a",
   "metadata": {},
   "outputs": [],
   "source": [
    "val sum = bigIntOne + bigIntTwo // Instead of bigIntOne.add(bigIntTwo)\n",
    "val difference = bigIntOne - bigIntTwo // Instead of bigIntOne.subtract(bigIntTwo)\n",
    "val product = bigIntOne * bigIntTwo // Instead of bigIntOne.multiply(bigIntTwo)\n",
    "val quotient = bigIntOne / bigIntTwo // Instead of bigIntOne.divide(bigIntTwo)"
   ]
  },
  {
   "cell_type": "code",
   "execution_count": 69,
   "id": "3d552425-75f4-4d42-88f5-65d89b25b3d1",
   "metadata": {},
   "outputs": [
    {
     "data": {
      "text/plain": [
       "123456789012345678901234567990"
      ]
     },
     "execution_count": 69,
     "metadata": {},
     "output_type": "execute_result"
    }
   ],
   "source": [
    "sum"
   ]
  },
  {
   "cell_type": "code",
   "execution_count": 70,
   "id": "1170dbce-10c7-45a3-99ff-09ae2e26fd4c",
   "metadata": {},
   "outputs": [
    {
     "data": {
      "text/plain": [
       "123456789012345678901234567790"
      ]
     },
     "execution_count": 70,
     "metadata": {},
     "output_type": "execute_result"
    }
   ],
   "source": [
    "difference"
   ]
  },
  {
   "cell_type": "code",
   "execution_count": 71,
   "id": "85f115ea-2cd1-4e02-8e95-a6e8372906ee",
   "metadata": {},
   "outputs": [
    {
     "data": {
      "text/plain": [
       "12345678901234567890123456789000"
      ]
     },
     "execution_count": 71,
     "metadata": {},
     "output_type": "execute_result"
    }
   ],
   "source": [
    "product"
   ]
  },
  {
   "cell_type": "code",
   "execution_count": 72,
   "id": "3ee0d159-6fd7-42f4-ab60-fb6d58cf0325",
   "metadata": {},
   "outputs": [
    {
     "data": {
      "text/plain": [
       "1234567890123456789012345678"
      ]
     },
     "execution_count": 72,
     "metadata": {},
     "output_type": "execute_result"
    }
   ],
   "source": [
    "quotient"
   ]
  },
  {
   "cell_type": "markdown",
   "id": "9924c9f7-706d-4a48-88eb-053d0bd793b4",
   "metadata": {},
   "source": [
    "## Extensions ##\n",
    "\n",
    "Kotlin allows extension functions and extension properties that allow adding new functionality to existing classes."
   ]
  },
  {
   "cell_type": "code",
   "execution_count": 73,
   "id": "be060313-1fb2-4f16-b862-488690092015",
   "metadata": {},
   "outputs": [],
   "source": [
    "fun Int.double(): Int {\n",
    "    return this * 2\n",
    "}"
   ]
  },
  {
   "cell_type": "code",
   "execution_count": 74,
   "id": "ada24b74-a437-4117-841d-fb3b27b37124",
   "metadata": {},
   "outputs": [
    {
     "data": {
      "text/plain": [
       "4"
      ]
     },
     "execution_count": 74,
     "metadata": {},
     "output_type": "execute_result"
    }
   ],
   "source": [
    "2.double()"
   ]
  },
  {
   "cell_type": "code",
   "execution_count": 76,
   "id": "abbc6280-22d1-4693-86e8-d13c9fc0dfce",
   "metadata": {},
   "outputs": [],
   "source": [
    "fun Int.isDivBy(vararg ns: Int): Boolean {\n",
    "    for (n in ns) {\n",
    "        if (this % n != 0) {\n",
    "            return false\n",
    "        }\n",
    "    }\n",
    "    return true\n",
    "}"
   ]
  },
  {
   "cell_type": "code",
   "execution_count": 77,
   "id": "dee9c2c4-19b0-4760-b483-3591a0c9e06a",
   "metadata": {},
   "outputs": [
    {
     "data": {
      "text/plain": [
       "false"
      ]
     },
     "execution_count": 77,
     "metadata": {},
     "output_type": "execute_result"
    }
   ],
   "source": [
    "10.isDivBy(7, 11)"
   ]
  },
  {
   "cell_type": "code",
   "execution_count": 78,
   "id": "0f371d36-b5a9-4e28-870c-e321188afbf0",
   "metadata": {},
   "outputs": [
    {
     "data": {
      "text/plain": [
       "true"
      ]
     },
     "execution_count": 78,
     "metadata": {},
     "output_type": "execute_result"
    }
   ],
   "source": [
    "10.isDivBy(2, 5, 10)"
   ]
  },
  {
   "cell_type": "markdown",
   "id": "04e47bad-3d15-4ce0-acd1-425d033eace6",
   "metadata": {},
   "source": [
    "***"
   ]
  }
 ],
 "metadata": {
  "kernelspec": {
   "display_name": "Kotlin",
   "language": "kotlin",
   "name": "kotlin"
  },
  "language_info": {
   "codemirror_mode": "text/x-kotlin",
   "file_extension": ".kt",
   "mimetype": "text/x-kotlin",
   "name": "kotlin",
   "nbconvert_exporter": "",
   "pygments_lexer": "kotlin",
   "version": "2.2.20-Beta2"
  }
 },
 "nbformat": 4,
 "nbformat_minor": 5
}
