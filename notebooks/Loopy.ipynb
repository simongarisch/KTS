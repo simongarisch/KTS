{
 "cells": [
  {
   "cell_type": "markdown",
   "id": "76b0c91e-a775-47c2-8e27-8522f79b4070",
   "metadata": {},
   "source": [
    "# Loopy #\n",
    "\n",
    "## Through a range ##"
   ]
  },
  {
   "cell_type": "code",
   "execution_count": 2,
   "id": "402ff04a-8cb3-4776-8d5e-03730d079116",
   "metadata": {},
   "outputs": [
    {
     "name": "stdout",
     "output_type": "stream",
     "text": [
      "1 | 2 | 3 | 4 | "
     ]
    }
   ],
   "source": [
    "for (i in 1..4) {\n",
    "    print(\"$i | \")\n",
    "}"
   ]
  },
  {
   "cell_type": "code",
   "execution_count": 3,
   "id": "864a77c3-328e-4cf3-bb3e-06f48939dbbf",
   "metadata": {},
   "outputs": [
    {
     "name": "stdout",
     "output_type": "stream",
     "text": [
      "1 | 2 | 3 | "
     ]
    }
   ],
   "source": [
    "for (i in 1..<4) {\n",
    "    print(\"$i | \")\n",
    "}"
   ]
  },
  {
   "cell_type": "markdown",
   "id": "d600ea18-2a94-4f7f-a811-3bcc906d07cd",
   "metadata": {},
   "source": [
    "## Iterating through an array ##"
   ]
  },
  {
   "cell_type": "code",
   "execution_count": 4,
   "id": "655dd8f9-3b6e-45c9-b30f-f64c9113d49e",
   "metadata": {},
   "outputs": [
    {
     "name": "stdout",
     "output_type": "stream",
     "text": [
      "red | green | blue | "
     ]
    }
   ],
   "source": [
    "val colors = arrayOf(\"red\", \"green\", \"blue\")\n",
    "for (color in colors) {\n",
    "    print(\"$color | \")\n",
    "}"
   ]
  },
  {
   "cell_type": "markdown",
   "id": "9f8111fa-9904-4686-8ba2-e0c13bbeadf2",
   "metadata": {},
   "source": [
    "## Iterating through a list ##"
   ]
  },
  {
   "cell_type": "code",
   "execution_count": 5,
   "id": "ef6de5de-51b6-42c1-b144-afc9eedccc70",
   "metadata": {},
   "outputs": [
    {
     "name": "stdout",
     "output_type": "stream",
     "text": [
      "one | two | three | "
     ]
    }
   ],
   "source": [
    "val numbers = listOf(\"one\", \"two\", \"three\")\n",
    "for (number in numbers) {\n",
    "    print(\"$number | \")\n",
    "}"
   ]
  },
  {
   "cell_type": "markdown",
   "id": "a2bc6641-a958-433a-a2cc-5c8b3eb86859",
   "metadata": {},
   "source": [
    "## With index ##"
   ]
  },
  {
   "cell_type": "code",
   "execution_count": 6,
   "id": "30c58f33-ee32-4591-89cf-f546ea152d76",
   "metadata": {},
   "outputs": [
    {
     "name": "stdout",
     "output_type": "stream",
     "text": [
      "0:one | 1:two | 2:three | "
     ]
    }
   ],
   "source": [
    "for ((index, item) in numbers.withIndex()) {\n",
    "    print(\"$index:$item | \")\n",
    "}"
   ]
  },
  {
   "cell_type": "markdown",
   "id": "2ba2bfa6-dbc6-4bc2-af20-7e49b26a1492",
   "metadata": {},
   "source": [
    "## Iterators ##"
   ]
  },
  {
   "cell_type": "code",
   "execution_count": 7,
   "id": "3d2222b0-00a9-484e-8deb-2a7a65382c03",
   "metadata": {},
   "outputs": [
    {
     "name": "stdout",
     "output_type": "stream",
     "text": [
      "one | two | three | four | "
     ]
    }
   ],
   "source": [
    "val numbers = listOf(\"one\", \"two\", \"three\", \"four\")\n",
    "val numbersIterator = numbers.iterator()\n",
    "\n",
    "while (numbersIterator.hasNext()) {\n",
    "    print(\"${numbersIterator.next()} | \")\n",
    "}"
   ]
  },
  {
   "cell_type": "markdown",
   "id": "3b82c5b3-0e68-44db-855e-03c992406920",
   "metadata": {},
   "source": [
    "## For each ##"
   ]
  },
  {
   "cell_type": "code",
   "execution_count": 8,
   "id": "caf0b720-a6db-493f-80ad-ca831a31ed46",
   "metadata": {},
   "outputs": [
    {
     "name": "stdout",
     "output_type": "stream",
     "text": [
      "1 | 2 | 3 | 4 | 5 | "
     ]
    }
   ],
   "source": [
    "val numbers = listOf(1, 2, 3, 4, 5)\n",
    "numbers.forEach { number ->\n",
    "    print(\"$number | \")\n",
    "}"
   ]
  },
  {
   "cell_type": "markdown",
   "id": "84d7d38d-7419-4179-9fd2-d6ec4546df48",
   "metadata": {},
   "source": [
    "## For each indexed ##"
   ]
  },
  {
   "cell_type": "code",
   "execution_count": 10,
   "id": "3bd45837-9a60-41d1-9789-4ca4278101c6",
   "metadata": {},
   "outputs": [
    {
     "name": "stdout",
     "output_type": "stream",
     "text": [
      "0:1 | 1:2 | 2:3 | 3:4 | 4:5 | "
     ]
    }
   ],
   "source": [
    "val numbers = listOf(1, 2, 3, 4, 5)\n",
    "numbers.forEachIndexed { index, number ->\n",
    "    print(\"$index:$number | \")\n",
    "}"
   ]
  },
  {
   "cell_type": "markdown",
   "id": "0d85e760-bb35-4f4e-96a2-2c2357c8d357",
   "metadata": {},
   "source": [
    "## While ##"
   ]
  },
  {
   "cell_type": "code",
   "execution_count": 11,
   "id": "726af0ea-0fcf-402f-bb84-03da3156c76a",
   "metadata": {},
   "outputs": [
    {
     "name": "stdout",
     "output_type": "stream",
     "text": [
      "10 | 9 | 8 | 7 | 6 | 5 | 4 | 3 | 2 | 1 | 0 | "
     ]
    }
   ],
   "source": [
    "var x = 10\n",
    "while (x >= 0) {\n",
    "    print(\"$x | \")\n",
    "    x--\n",
    "} "
   ]
  },
  {
   "cell_type": "markdown",
   "id": "e1a9ba75-2bef-4f4c-af92-58fe607bb24d",
   "metadata": {},
   "source": [
    "## Funky ##"
   ]
  },
  {
   "cell_type": "code",
   "execution_count": 23,
   "id": "2ee545df-cb4a-400a-a1a6-7761b7e6daee",
   "metadata": {},
   "outputs": [
    {
     "data": {
      "text/plain": [
       "30"
      ]
     },
     "execution_count": 23,
     "metadata": {},
     "output_type": "execute_result"
    }
   ],
   "source": [
    "val numbers = (0..9).toList()\n",
    "val result = numbers\n",
    "    .map { it + 1 }         // now 1 -> 10 \n",
    "    .filter { it % 2 == 0 } // get even only\n",
    "    .reduce { accumulator, element -> accumulator + element } // sum\n",
    "result"
   ]
  },
  {
   "cell_type": "markdown",
   "id": "583fff35-cd13-4577-a8e8-2ad823978483",
   "metadata": {},
   "source": [
    "***"
   ]
  }
 ],
 "metadata": {
  "kernelspec": {
   "display_name": "Kotlin",
   "language": "kotlin",
   "name": "kotlin"
  },
  "language_info": {
   "codemirror_mode": "text/x-kotlin",
   "file_extension": ".kt",
   "mimetype": "text/x-kotlin",
   "name": "kotlin",
   "nbconvert_exporter": "",
   "pygments_lexer": "kotlin",
   "version": "2.2.20-Beta2"
  }
 },
 "nbformat": 4,
 "nbformat_minor": 5
}
