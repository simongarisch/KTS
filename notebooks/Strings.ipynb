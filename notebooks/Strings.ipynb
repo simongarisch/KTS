{
 "cells": [
  {
   "cell_type": "markdown",
   "id": "647640c2",
   "metadata": {},
   "source": [
    "# Strings #"
   ]
  },
  {
   "cell_type": "code",
   "execution_count": 2,
   "id": "13d54738-eb95-4daa-9668-982308d854a3",
   "metadata": {},
   "outputs": [
    {
     "data": {
      "text/plain": [
       "this is a string..."
      ]
     },
     "execution_count": 2,
     "metadata": {},
     "output_type": "execute_result"
    }
   ],
   "source": [
    "var s = \"this is a string...\"\n",
    "s"
   ]
  },
  {
   "cell_type": "code",
   "execution_count": 3,
   "id": "a85ff8da-3c49-472a-92bb-07d3e8e4602d",
   "metadata": {},
   "outputs": [],
   "source": [
    "var s2: String = \"this is also a string...\""
   ]
  },
  {
   "cell_type": "code",
   "execution_count": 4,
   "id": "fc1adcbf-aa99-4ef2-ba79-795cb85c9f6e",
   "metadata": {},
   "outputs": [],
   "source": [
    "val multilineString = \"\"\"\n",
    "This is a long string\n",
    "which spans\n",
    "multiple lines\n",
    "\"\"\""
   ]
  },
  {
   "cell_type": "markdown",
   "id": "eb209578-afc2-4248-93e2-7f9569a746ca",
   "metadata": {},
   "source": [
    "## Iterating through chars ##"
   ]
  },
  {
   "cell_type": "code",
   "execution_count": 5,
   "id": "f02e60e6-ca9a-40fd-bb30-7d0a02516153",
   "metadata": {},
   "outputs": [
    {
     "name": "stdout",
     "output_type": "stream",
     "text": [
      "K | o | t | l | i | n | "
     ]
    }
   ],
   "source": [
    "for (char in \"Kotlin\") {\n",
    "    print(\"${char} | \")\n",
    "}"
   ]
  },
  {
   "cell_type": "markdown",
   "id": "a047e823-01d5-46a3-bce9-d32a10f50052",
   "metadata": {},
   "source": [
    "## Uppercase, lowercase, trim ... ##"
   ]
  },
  {
   "cell_type": "code",
   "execution_count": 6,
   "id": "819914a6-3c94-4151-9873-8b558207d322",
   "metadata": {},
   "outputs": [],
   "source": [
    "var s = \" abc \""
   ]
  },
  {
   "cell_type": "code",
   "execution_count": 10,
   "id": "f14c73e6-9e84-43f4-be84-21d79ebabe52",
   "metadata": {},
   "outputs": [
    {
     "data": {
      "text/plain": [
       "' ABC '"
      ]
     },
     "execution_count": 10,
     "metadata": {},
     "output_type": "execute_result"
    }
   ],
   "source": [
    "\"'${s.uppercase()}'\""
   ]
  },
  {
   "cell_type": "code",
   "execution_count": 11,
   "id": "f7a66651-58e1-4d72-a7da-28ec39d80419",
   "metadata": {},
   "outputs": [
    {
     "data": {
      "text/plain": [
       "' abc '"
      ]
     },
     "execution_count": 11,
     "metadata": {},
     "output_type": "execute_result"
    }
   ],
   "source": [
    "\"'${s.lowercase()}'\""
   ]
  },
  {
   "cell_type": "code",
   "execution_count": 12,
   "id": "5a238c9a-8654-4416-8ba8-317eb809e69e",
   "metadata": {},
   "outputs": [
    {
     "data": {
      "text/plain": [
       "'abc'"
      ]
     },
     "execution_count": 12,
     "metadata": {},
     "output_type": "execute_result"
    }
   ],
   "source": [
    "\"'${s.trim()}'\""
   ]
  },
  {
   "cell_type": "code",
   "execution_count": 15,
   "id": "b6874d0b-9269-44ff-9ae3-8df0315698b9",
   "metadata": {},
   "outputs": [],
   "source": [
    "fun String.upperTrim(): String {\n",
    "    return this.uppercase().trim()\n",
    "}"
   ]
  },
  {
   "cell_type": "code",
   "execution_count": 16,
   "id": "04868ea3-ecae-4ee6-a326-9d2e7ee660bd",
   "metadata": {},
   "outputs": [
    {
     "data": {
      "text/plain": [
       "ABC"
      ]
     },
     "execution_count": 16,
     "metadata": {},
     "output_type": "execute_result"
    }
   ],
   "source": [
    "s.upperTrim()"
   ]
  },
  {
   "cell_type": "markdown",
   "id": "dc36e67c-8897-4d7d-8839-0a91bd8c0663",
   "metadata": {},
   "source": [
    "## Slices and string manipulation ##"
   ]
  },
  {
   "cell_type": "code",
   "execution_count": 17,
   "id": "0fe3e44a-d747-4ab5-9ff7-699e66ac244d",
   "metadata": {},
   "outputs": [],
   "source": [
    "var s = \"Kotlin\""
   ]
  },
  {
   "cell_type": "code",
   "execution_count": 19,
   "id": "5b643c03-9210-420d-8878-49a58acc1bc3",
   "metadata": {},
   "outputs": [
    {
     "data": {
      "text/plain": [
       "Kot"
      ]
     },
     "execution_count": 19,
     "metadata": {},
     "output_type": "execute_result"
    }
   ],
   "source": [
    "s.take(3)"
   ]
  },
  {
   "cell_type": "code",
   "execution_count": 21,
   "id": "3deb39a6-d0b5-4895-aabc-f8223ddc5bf2",
   "metadata": {},
   "outputs": [
    {
     "data": {
      "text/plain": [
       "lin"
      ]
     },
     "execution_count": 21,
     "metadata": {},
     "output_type": "execute_result"
    }
   ],
   "source": [
    "s.takeLast(3)"
   ]
  },
  {
   "cell_type": "code",
   "execution_count": 20,
   "id": "21456f7f-4802-483a-90bc-98246fe0a5c1",
   "metadata": {},
   "outputs": [
    {
     "data": {
      "text/plain": [
       "6"
      ]
     },
     "execution_count": 20,
     "metadata": {},
     "output_type": "execute_result"
    }
   ],
   "source": [
    "s.length"
   ]
  },
  {
   "cell_type": "code",
   "execution_count": 22,
   "id": "423c4264-3075-4cdc-b9e5-4732537fe049",
   "metadata": {},
   "outputs": [
    {
     "data": {
      "text/plain": [
       "otl"
      ]
     },
     "execution_count": 22,
     "metadata": {},
     "output_type": "execute_result"
    }
   ],
   "source": [
    "s.slice(1..3)"
   ]
  },
  {
   "cell_type": "code",
   "execution_count": 27,
   "id": "251d3427-c040-429b-b969-10aca1ad64c2",
   "metadata": {},
   "outputs": [
    {
     "data": {
      "text/plain": [
       "Kotl"
      ]
     },
     "execution_count": 27,
     "metadata": {},
     "output_type": "execute_result"
    }
   ],
   "source": [
    "s.substring(0..3)"
   ]
  },
  {
   "cell_type": "code",
   "execution_count": 23,
   "id": "b645daa7-e238-4099-952a-739c573b1d30",
   "metadata": {},
   "outputs": [
    {
     "data": {
      "text/plain": [
       "otl"
      ]
     },
     "execution_count": 23,
     "metadata": {},
     "output_type": "execute_result"
    }
   ],
   "source": [
    "s.substring(1..3)"
   ]
  },
  {
   "cell_type": "code",
   "execution_count": 28,
   "id": "f36640fb-4b0c-43de-b974-240109f546a0",
   "metadata": {},
   "outputs": [
    {
     "data": {
      "text/plain": [
       "niltoK"
      ]
     },
     "execution_count": 28,
     "metadata": {},
     "output_type": "execute_result"
    }
   ],
   "source": [
    "s.reversed()"
   ]
  },
  {
   "cell_type": "markdown",
   "id": "d02ebb64-30f2-4424-8d68-775d291a0937",
   "metadata": {},
   "source": [
    "## String comparison ##"
   ]
  },
  {
   "cell_type": "code",
   "execution_count": 29,
   "id": "d34c2010-57b1-46b0-9faf-49dc2b11029e",
   "metadata": {},
   "outputs": [
    {
     "data": {
      "text/plain": [
       "true"
      ]
     },
     "execution_count": 29,
     "metadata": {},
     "output_type": "execute_result"
    }
   ],
   "source": [
    "\"abc\" == \"abc\""
   ]
  },
  {
   "cell_type": "code",
   "execution_count": 31,
   "id": "0119019f-e948-47dc-b6cd-58211caf86f5",
   "metadata": {},
   "outputs": [
    {
     "data": {
      "text/plain": [
       "false"
      ]
     },
     "execution_count": 31,
     "metadata": {},
     "output_type": "execute_result"
    }
   ],
   "source": [
    "\"abc\" == \"123\""
   ]
  },
  {
   "cell_type": "code",
   "execution_count": 33,
   "id": "9ced8106-9077-4c6d-8522-871f46b9f832",
   "metadata": {},
   "outputs": [],
   "source": [
    "val a = \"abc\"\n",
    "val b = \"Abc\""
   ]
  },
  {
   "cell_type": "code",
   "execution_count": 34,
   "id": "96642117-2945-4198-adaf-e6e249a24ac2",
   "metadata": {},
   "outputs": [
    {
     "data": {
      "text/plain": [
       "false"
      ]
     },
     "execution_count": 34,
     "metadata": {},
     "output_type": "execute_result"
    }
   ],
   "source": [
    "a == b"
   ]
  },
  {
   "cell_type": "code",
   "execution_count": 35,
   "id": "2c9d4d7e-1187-4aa7-849b-03c9a5d64bfa",
   "metadata": {},
   "outputs": [
    {
     "data": {
      "text/plain": [
       "false"
      ]
     },
     "execution_count": 35,
     "metadata": {},
     "output_type": "execute_result"
    }
   ],
   "source": [
    "a.equals(b)"
   ]
  },
  {
   "cell_type": "code",
   "execution_count": 36,
   "id": "b191a3be-ce5a-4f37-9452-97de48904731",
   "metadata": {},
   "outputs": [
    {
     "data": {
      "text/plain": [
       "true"
      ]
     },
     "execution_count": 36,
     "metadata": {},
     "output_type": "execute_result"
    }
   ],
   "source": [
    "a.equals(b, ignoreCase=true)"
   ]
  },
  {
   "cell_type": "markdown",
   "id": "c0349b0a-2465-430f-8e4d-825f12c9d916",
   "metadata": {},
   "source": [
    "## To arrays and lists ##"
   ]
  },
  {
   "cell_type": "code",
   "execution_count": 37,
   "id": "10a562ea-7a5e-4017-8ef7-4f417d8425f1",
   "metadata": {},
   "outputs": [
    {
     "data": {
      "text/plain": [
       "[K, o, t, l, i, n]"
      ]
     },
     "execution_count": 37,
     "metadata": {},
     "output_type": "execute_result"
    }
   ],
   "source": [
    "var s = \"Kotlin\"\n",
    "s.toCharArray()"
   ]
  },
  {
   "cell_type": "code",
   "execution_count": 38,
   "id": "ca003e55-de06-470f-9bbd-9c4aa054fa04",
   "metadata": {},
   "outputs": [
    {
     "data": {
      "text/plain": [
       "[K, o, t, l, i, n]"
      ]
     },
     "execution_count": 38,
     "metadata": {},
     "output_type": "execute_result"
    }
   ],
   "source": [
    "s.toList()"
   ]
  },
  {
   "cell_type": "code",
   "execution_count": 39,
   "id": "ea377aa5-91db-4b33-b043-372a2cae01de",
   "metadata": {},
   "outputs": [
    {
     "data": {
      "text/plain": [
       "[K, o, t, l, i, n]"
      ]
     },
     "execution_count": 39,
     "metadata": {},
     "output_type": "execute_result"
    }
   ],
   "source": [
    "s.toSet()"
   ]
  },
  {
   "cell_type": "code",
   "execution_count": 40,
   "id": "f4932e59-c188-4942-bc6e-0ac02be7db4a",
   "metadata": {},
   "outputs": [
    {
     "data": {
      "text/plain": [
       "[a, B, c]"
      ]
     },
     "execution_count": 40,
     "metadata": {},
     "output_type": "execute_result"
    }
   ],
   "source": [
    "\"aaBBcc\".toSet()"
   ]
  },
  {
   "cell_type": "markdown",
   "id": "f8d114ba-5d86-4996-8b44-27946a962637",
   "metadata": {},
   "source": [
    "## String joins ##"
   ]
  },
  {
   "cell_type": "code",
   "execution_count": 41,
   "id": "f55c2022-b823-4545-9b54-a163ea8d7bf8",
   "metadata": {},
   "outputs": [
    {
     "data": {
      "text/plain": [
       "[K, o, t, l, i, n]"
      ]
     },
     "execution_count": 41,
     "metadata": {},
     "output_type": "execute_result"
    }
   ],
   "source": [
    "val s = \"Kotlin\"\n",
    "val sarr = s.toCharArray()\n",
    "sarr"
   ]
  },
  {
   "cell_type": "code",
   "execution_count": 43,
   "id": "8facad78-b87f-43e5-a43e-0cfa511ddc7c",
   "metadata": {},
   "outputs": [
    {
     "data": {
      "text/plain": [
       "K-o-t-l-i-n"
      ]
     },
     "execution_count": 43,
     "metadata": {},
     "output_type": "execute_result"
    }
   ],
   "source": [
    "sarr.joinToString(separator=\"-\")"
   ]
  },
  {
   "cell_type": "code",
   "execution_count": 44,
   "id": "9226356d-8565-42c2-a7b8-949d68fa2be4",
   "metadata": {},
   "outputs": [
    {
     "data": {
      "text/plain": [
       "Kotlin"
      ]
     },
     "execution_count": 44,
     "metadata": {},
     "output_type": "execute_result"
    }
   ],
   "source": [
    "sarr.joinToString(separator=\"\")"
   ]
  },
  {
   "cell_type": "markdown",
   "id": "0afcb723-a4c7-4490-a7e6-11521d6aff5f",
   "metadata": {},
   "source": [
    "## String sort ##"
   ]
  },
  {
   "cell_type": "code",
   "execution_count": 55,
   "id": "6a6b4d42-f26a-441b-823a-3d42b41a0a0f",
   "metadata": {},
   "outputs": [
    {
     "data": {
      "text/plain": [
       "iklnot"
      ]
     },
     "execution_count": 55,
     "metadata": {},
     "output_type": "execute_result"
    }
   ],
   "source": [
    "\"Kotlin\".lowercase().toCharArray().sorted().joinToString(\"\")"
   ]
  },
  {
   "cell_type": "markdown",
   "id": "082d573c-63bf-496e-8ff3-8ab041c224a1",
   "metadata": {},
   "source": [
    "## Chaining string operations ##"
   ]
  },
  {
   "cell_type": "code",
   "execution_count": 56,
   "id": "467084c0-2ee1-42fc-9185-72ff2834d0f1",
   "metadata": {},
   "outputs": [
    {
     "data": {
      "text/plain": [
       "[i, k, l, n, o, t]"
      ]
     },
     "execution_count": 56,
     "metadata": {},
     "output_type": "execute_result"
    }
   ],
   "source": [
    "val s = \" Kotlin \"\n",
    "s.lowercase().trim().toSet().sorted()"
   ]
  },
  {
   "cell_type": "code",
   "execution_count": 57,
   "id": "d7ffaa02-9aa4-48c4-b5e5-cb4e14868bee",
   "metadata": {},
   "outputs": [
    {
     "data": {
      "text/plain": [
       "[K, i, l, n, o, t]"
      ]
     },
     "execution_count": 57,
     "metadata": {},
     "output_type": "execute_result"
    }
   ],
   "source": [
    "\"Kotlin\".toCharArray().sorted() // K > k, case matters"
   ]
  },
  {
   "cell_type": "markdown",
   "id": "176b444c-0588-4893-89c5-79819a712fa9",
   "metadata": {},
   "source": [
    "## Conversions ##"
   ]
  },
  {
   "cell_type": "code",
   "execution_count": 68,
   "id": "d83ae476-53d0-4def-b2ff-877668fe5a9f",
   "metadata": {},
   "outputs": [
    {
     "data": {
      "text/plain": [
       "2"
      ]
     },
     "execution_count": 68,
     "metadata": {},
     "output_type": "execute_result"
    }
   ],
   "source": [
    "\"2\".toInt()"
   ]
  },
  {
   "cell_type": "code",
   "execution_count": 69,
   "id": "12a6d021-3f9e-4ae1-8a99-fc504addd91c",
   "metadata": {},
   "outputs": [
    {
     "data": {
      "text/plain": [
       "2.0"
      ]
     },
     "execution_count": 69,
     "metadata": {},
     "output_type": "execute_result"
    }
   ],
   "source": [
    "\"2\".toFloat()"
   ]
  },
  {
   "cell_type": "code",
   "execution_count": 70,
   "id": "4881c99d-aa02-4d47-b2bc-4c9ef50b52c5",
   "metadata": {},
   "outputs": [
    {
     "data": {
      "text/plain": [
       "Float"
      ]
     },
     "execution_count": 70,
     "metadata": {},
     "output_type": "execute_result"
    }
   ],
   "source": [
    "\"2\".toFloat()::class.simpleName"
   ]
  },
  {
   "cell_type": "code",
   "execution_count": 71,
   "id": "aea5a22a-4de3-4cff-b8a4-2eccaf255a28",
   "metadata": {},
   "outputs": [
    {
     "data": {
      "text/plain": [
       "null"
      ]
     },
     "execution_count": 71,
     "metadata": {},
     "output_type": "execute_result"
    }
   ],
   "source": [
    "\"2X\".toIntOrNull()"
   ]
  },
  {
   "cell_type": "code",
   "execution_count": 72,
   "id": "015ebf40-7fef-4c85-b0bd-76386fc725ed",
   "metadata": {},
   "outputs": [
    {
     "data": {
      "text/plain": [
       "null"
      ]
     },
     "execution_count": 72,
     "metadata": {},
     "output_type": "execute_result"
    }
   ],
   "source": [
    "\"2X\".toFloatOrNull()"
   ]
  },
  {
   "cell_type": "code",
   "execution_count": 74,
   "id": "99eec619-881a-47f5-9115-97706ac9fd80",
   "metadata": {},
   "outputs": [
    {
     "data": {
      "text/plain": [
       "2025-09-11"
      ]
     },
     "execution_count": 74,
     "metadata": {},
     "output_type": "execute_result"
    }
   ],
   "source": [
    "import java.time.LocalDate\n",
    "\n",
    "LocalDate.parse(\"2025-09-11\")"
   ]
  },
  {
   "cell_type": "markdown",
   "id": "b14a113b-318d-453b-b448-c76fc62aedb4",
   "metadata": {},
   "source": [
    "***"
   ]
  }
 ],
 "metadata": {
  "kernelspec": {
   "display_name": "Kotlin",
   "language": "kotlin",
   "name": "kotlin"
  },
  "language_info": {
   "codemirror_mode": "text/x-kotlin",
   "file_extension": ".kt",
   "mimetype": "text/x-kotlin",
   "name": "kotlin",
   "nbconvert_exporter": "",
   "pygments_lexer": "kotlin",
   "version": "2.2.20-Beta2"
  }
 },
 "nbformat": 4,
 "nbformat_minor": 5
}
