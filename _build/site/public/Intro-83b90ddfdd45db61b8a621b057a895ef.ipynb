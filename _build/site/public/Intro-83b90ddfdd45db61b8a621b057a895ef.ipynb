{
 "cells": [
  {
   "cell_type": "markdown",
   "id": "4855ae59-7b90-44a9-ad72-79bd9e712b0e",
   "metadata": {},
   "source": [
    "# Intro #\n",
    "\n",
    "Kotlin is a modern, statically typed programming language developed by JetBrains (the creators of IntelliJ IDEA) and runs on the Java Virtual Machine (JVM)."
   ]
  },
  {
   "cell_type": "code",
   "execution_count": 1,
   "id": "4e7973ba-81aa-4b63-8b80-9da112dee94b",
   "metadata": {},
   "outputs": [
    {
     "name": "stdout",
     "output_type": "stream",
     "text": [
      "hello, world\n"
     ]
    }
   ],
   "source": [
    "println(\"hello, world\")"
   ]
  },
  {
   "cell_type": "code",
   "execution_count": 2,
   "id": "547857d7-4439-44de-9118-94ebeea6a726",
   "metadata": {},
   "outputs": [
    {
     "name": "stdout",
     "output_type": "stream",
     "text": [
      "42\n"
     ]
    }
   ],
   "source": [
    "var meaningOfLife = 42\n",
    "println(meaningOfLife)"
   ]
  },
  {
   "cell_type": "code",
   "execution_count": 10,
   "id": "d7e38414-9c75-4fd9-bb2f-353db71afb3e",
   "metadata": {},
   "outputs": [
    {
     "name": "stdout",
     "output_type": "stream",
     "text": [
      "hello, world\n"
     ]
    }
   ],
   "source": [
    "fun main(args: Array<String>) {\n",
    "    if (args.size > 0) {\n",
    "        println(args)\n",
    "    }\n",
    "    println(\"hello, world\")\n",
    "}\n",
    "\n",
    "val args = emptyArray<String>()\n",
    "main(args)"
   ]
  },
  {
   "cell_type": "markdown",
   "id": "be8c2ed2-630d-49ae-badd-283f2f39b7ec",
   "metadata": {},
   "source": [
    "... all fairly straightforward ..."
   ]
  },
  {
   "cell_type": "markdown",
   "id": "72731662-4b04-40e3-a7d7-f2545d652826",
   "metadata": {},
   "source": [
    "## FizzBuzz ##"
   ]
  },
  {
   "cell_type": "code",
   "execution_count": 17,
   "id": "9cecf553-8b02-4cd3-806e-35439df54b74",
   "metadata": {},
   "outputs": [],
   "source": [
    "fun Int.isDiv(vararg ints: Int): Boolean {\n",
    "    for (i in ints) {\n",
    "        if (this % i != 0) {\n",
    "            return false\n",
    "        }\n",
    "    }\n",
    "    return true\n",
    "}"
   ]
  },
  {
   "cell_type": "code",
   "execution_count": 18,
   "id": "00abb5cd-ca44-4805-a383-45f1625d0d98",
   "metadata": {},
   "outputs": [
    {
     "data": {
      "text/plain": [
       "false"
      ]
     },
     "execution_count": 18,
     "metadata": {},
     "output_type": "execute_result"
    }
   ],
   "source": [
    "3.isDiv(2)"
   ]
  },
  {
   "cell_type": "code",
   "execution_count": 19,
   "id": "7baa26ee-c9fb-4ac0-ae3e-e398fdef439d",
   "metadata": {},
   "outputs": [
    {
     "data": {
      "text/plain": [
       "true"
      ]
     },
     "execution_count": 19,
     "metadata": {},
     "output_type": "execute_result"
    }
   ],
   "source": [
    "6.isDiv(2)"
   ]
  },
  {
   "cell_type": "code",
   "execution_count": 25,
   "id": "6d45be16-dd5c-456c-b0ba-3094fd6ed47f",
   "metadata": {},
   "outputs": [],
   "source": [
    "fun fizzBuzz(n: Int): String {\n",
    "    if (n.isDiv(3, 5)) {\n",
    "        return \"FizzBuzz\"\n",
    "    } else if (n.isDiv(3)) {\n",
    "        return \"Fizz\"\n",
    "    } else if (n.isDiv(5)) {\n",
    "        return \"Buzz\"\n",
    "    }\n",
    "\n",
    "    return n.toString()\n",
    "}"
   ]
  },
  {
   "cell_type": "code",
   "execution_count": 26,
   "id": "d60983d3-1d18-41c9-90e2-6845b187cd9b",
   "metadata": {},
   "outputs": [
    {
     "name": "stdout",
     "output_type": "stream",
     "text": [
      "1\n",
      "2\n",
      "Fizz\n",
      "4\n",
      "Buzz\n",
      "Fizz\n",
      "7\n",
      "8\n",
      "Fizz\n",
      "Buzz\n",
      "11\n",
      "Fizz\n",
      "13\n",
      "14\n",
      "FizzBuzz\n",
      "16\n",
      "17\n",
      "Fizz\n",
      "19\n",
      "Buzz\n"
     ]
    }
   ],
   "source": [
    "for (n in 1..20) {\n",
    "    println(fizzBuzz(n))\n",
    "}"
   ]
  },
  {
   "cell_type": "markdown",
   "id": "e46431f8-47db-43b2-9ee2-795a83b597ea",
   "metadata": {},
   "source": [
    "Alternatively...\n",
    "\n",
    "The when expression serves as an expressive alternative to the switch."
   ]
  },
  {
   "cell_type": "code",
   "execution_count": 27,
   "id": "d627fb7a-eabe-4599-9465-faf5ecb07f05",
   "metadata": {},
   "outputs": [],
   "source": [
    "fun fizzBuzz2(n: Int): String {\n",
    "    when {\n",
    "        n.isDiv(3, 5) -> return \"FizzBuzz\"\n",
    "        n.isDiv(3) -> return \"Fizz\"\n",
    "        n.isDiv(5) -> return \"Buzz\"\n",
    "        else -> return n.toString()\n",
    "    }\n",
    "}"
   ]
  },
  {
   "cell_type": "code",
   "execution_count": 28,
   "id": "8409d63f-6e87-4c89-9bfd-e19d8aa61ce7",
   "metadata": {},
   "outputs": [
    {
     "name": "stdout",
     "output_type": "stream",
     "text": [
      "1\n",
      "2\n",
      "Fizz\n",
      "4\n",
      "Buzz\n",
      "Fizz\n",
      "7\n",
      "8\n",
      "Fizz\n",
      "Buzz\n",
      "11\n",
      "Fizz\n",
      "13\n",
      "14\n",
      "FizzBuzz\n",
      "16\n",
      "17\n",
      "Fizz\n",
      "19\n",
      "Buzz\n"
     ]
    }
   ],
   "source": [
    "for (n in 1..20) {\n",
    "    println(fizzBuzz2(n))\n",
    "}"
   ]
  },
  {
   "cell_type": "markdown",
   "id": "192e0b42-434d-406b-b04d-befe21f4c9f7",
   "metadata": {},
   "source": [
    "***"
   ]
  }
 ],
 "metadata": {
  "kernelspec": {
   "display_name": "Kotlin",
   "language": "kotlin",
   "name": "kotlin"
  },
  "language_info": {
   "codemirror_mode": "text/x-kotlin",
   "file_extension": ".kt",
   "mimetype": "text/x-kotlin",
   "name": "kotlin",
   "nbconvert_exporter": "",
   "pygments_lexer": "kotlin",
   "version": "2.2.20-Beta2"
  }
 },
 "nbformat": 4,
 "nbformat_minor": 5
}
